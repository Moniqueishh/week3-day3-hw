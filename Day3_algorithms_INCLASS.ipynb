{
 "cells": [
  {
   "cell_type": "markdown",
   "metadata": {},
   "source": [
    "# Algorithms, Binary Search & Sorting"
   ]
  },
  {
   "cell_type": "markdown",
   "metadata": {},
   "source": [
    "## Tasks Today:\n",
    " \n",
    "1) <b>In-Place Algorithms</b> <br>\n",
    " &nbsp;&nbsp;&nbsp;&nbsp; a) Syntax <br>\n",
    " &nbsp;&nbsp;&nbsp;&nbsp; a) Out of Place Algorithm <br>\n",
    " &nbsp;&nbsp;&nbsp;&nbsp; b) In-Class Exercise #1 <br>\n",
    "2) <b>Two Pointers</b> <br>\n",
    "3) <b>Sorting Algos</b> <br>\n",
    " &nbsp;&nbsp;&nbsp;&nbsp; a) Video on Algorithms <br>\n",
    " &nbsp;&nbsp;&nbsp;&nbsp; b) How it Works <br>\n",
    "4) <b>Exercises</b> <br>\n",
    " &nbsp;&nbsp;&nbsp;&nbsp; a) Exercise #1 - Reverse a List in Place Using an In-Place Algorithm <br>\n",
    " &nbsp;&nbsp;&nbsp;&nbsp; b) Exercise #2 - Find Distinct Words <br>\n",
    " &nbsp;&nbsp;&nbsp;&nbsp; c) Exercise #3 - Write a program to implement a Linear Search Algorithm. <br>"
   ]
  },
  {
   "cell_type": "markdown",
   "metadata": {},
   "source": [
    "## In-Place Algorithms"
   ]
  },
  {
   "cell_type": "markdown",
   "metadata": {},
   "source": [
    "#### Syntax"
   ]
  },
  {
   "cell_type": "code",
   "execution_count": 15,
   "metadata": {},
   "outputs": [],
   "source": [
    "#in-place modifies the Actual list/structure \n",
    "# EX: .sort()\n",
    "#   0       1         1      0\n",
    "# var[i], var[i+1] = var[i+1], var[i]\n",
    "\n",
    "# def swap(alist,x,y):\n",
    "#     tempa = alist[x]\n",
    "#     tempb = alist[y]\n",
    "#     alist[x] = tempb\n",
    "#     alist[y] = tempa\n",
    "\n",
    "def swap(alist,x,y): #Defining our function \n",
    "    alist[x],alist[y] = alist[y],alist[x] # swapping \n",
    "    \n",
    "# nums = [1,5,3,16,2] #Our list \n",
    "# print(f\"original- {nums}\") #Printing our regular list\n",
    "\n",
    "# swap(nums, 0,4) #Adding our list and what we want to swap within the list(by index #)\n",
    "# print(f\"After swap- {nums}\")"
   ]
  },
  {
   "cell_type": "markdown",
   "metadata": {},
   "source": [
    "#### Out of Place Algorithm"
   ]
  },
  {
   "cell_type": "code",
   "execution_count": 5,
   "metadata": {},
   "outputs": [
    {
     "name": "stdout",
     "output_type": "stream",
     "text": [
      "original- [1, 5, 3, 16, 2]\n",
      "original- [0, 66]\n",
      "After swap- [2, 5, 3, 16, 1]\n",
      "After swap- [0, 66]\n",
      "None\n",
      "None\n"
     ]
    }
   ],
   "source": [
    "#out-of-place returns a modified copy \n",
    "# EX: sorted\n",
    "\n",
    "def swapOut(alist,x,y): #Defining our function \n",
    "    copy = alist[:] #Slice notation- \n",
    "    copy[x],copy[y] = copy[y],copy[x] # swapping \n",
    "    return #We are not returning the original, we are making a copy and returning that \n",
    "    \n",
    "nums = [1,5,3,16,2] #Our list\n",
    "eznums = [0,66]\n",
    "print(f\"original- {nums}\") #Printing our regular list\n",
    "print(f\"original- {eznums}\")\n",
    "a =swapOut(nums, 1, 3)\n",
    "b =swapOut(eznums, 0, 1)\n",
    "\n",
    "swap(nums, 0,4) #Adding our list and what we want to swap within the list(by index #)\n",
    "print(f\"After swap- {nums}\")\n",
    "print(f\"After swap- {eznums}\")\n",
    "print(a)\n",
    "print(b)"
   ]
  },
  {
   "cell_type": "markdown",
   "metadata": {},
   "source": [
    "#### In-Class Exercise #1 <br>\n",
    "<p>Write a function that takes in four arguments (list, index1, index2, index3), and swaps those three positions in the list passed in.</p>"
   ]
  },
  {
   "cell_type": "code",
   "execution_count": 10,
   "metadata": {},
   "outputs": [
    {
     "name": "stdout",
     "output_type": "stream",
     "text": [
      "[10, 4, 3, 8, 4, 2, 6]\n",
      "[3, 10, 4, 8, 4, 2, 6]\n"
     ]
    }
   ],
   "source": [
    "l_1 = [10, 4, 3, 8, 4, 2, 6]\n",
    "\n",
    "def swapOut(alist,x,y,z): #Defining our function \n",
    "    copy = alist[:] #Slice notation- \n",
    "    copy[x],copy[y], copy[z] = copy[z], copy[x], copy[y] # swapping \n",
    "    return copy #We are not returning the original, we are making a copy and returning that \n",
    "\n",
    "print(l_1)\n",
    "a =swapOut(l_1, 0, 1, 2)\n",
    "print(a)"
   ]
  },
  {
   "cell_type": "markdown",
   "metadata": {},
   "source": [
    "## Two Pointers"
   ]
  },
  {
   "cell_type": "markdown",
   "metadata": {},
   "source": [
    "#### Syntax"
   ]
  },
  {
   "cell_type": "code",
   "execution_count": 11,
   "metadata": {},
   "outputs": [
    {
     "name": "stdout",
     "output_type": "stream",
     "text": [
      "[1, 2, 3, 4, 5]\n",
      "[5, 4, 3, 2, 1]\n"
     ]
    }
   ],
   "source": [
    "\n",
    "nums2 = [1,2,3,4,5]\n",
    "nums3 = [5,9,11,56,45,2,86,21]\n",
    "\n",
    "def twoPointer(numlist):\n",
    "    #create our pointers\n",
    "    left = 0 #Left pointer is going to start at...\n",
    "    right = len(numlist)-1 #-1 is refering to the last number of the list, Right will start at \n",
    "    while left < right:\n",
    "        numlist[left], numlist[right] = numlist[right], numlist[left]\n",
    "        left += 1 #To make left pointer move over\n",
    "        right -= 1 #To make right pointer move over\n",
    "        \n",
    "print(nums2)\n",
    "twoPointer(nums2)\n",
    "print(nums2)\n",
    "\n",
    "#We dont have to return anything because its changing the list itself- not giving a copy"
   ]
  },
  {
   "cell_type": "markdown",
   "metadata": {},
   "source": [
    "#### Video of Algorithms <br>\n",
    "<p>Watch the video about algorithms.</p>\n",
    "\n",
    "https://www.youtube.com/watch?v=Q9HjeFD62Uk\n",
    "\n",
    "https://www.youtube.com/watch?v=kPRA0W1kECg\n",
    "\n",
    "https://www.youtube.com/watch?v=ZZuD6iUe3Pc"
   ]
  },
  {
   "cell_type": "markdown",
   "metadata": {},
   "source": [
    "# Sorting Algorithms"
   ]
  },
  {
   "cell_type": "markdown",
   "metadata": {},
   "source": [
    "#### Bubble Sort\n",
    "\n",
    "Worst Case: O(n^2) Time - O(1) Space"
   ]
  },
  {
   "cell_type": "code",
   "execution_count": 22,
   "metadata": {},
   "outputs": [
    {
     "name": "stdout",
     "output_type": "stream",
     "text": [
      "[5, 3, 84, 65, 10, 91, 2]\n",
      "[2, 3, 5, 10, 65, 84, 91]\n"
     ]
    }
   ],
   "source": [
    "# This is going to be a helper function for us \n",
    "\n",
    "def swap(alist,x,y): #Defining our function \n",
    "    alist[x],alist[y] = alist[y],alist[x] # swapping \n",
    "    \n",
    "\n",
    "def bubbleSort(arr): #arr is Just a regular parameter\n",
    "    for x in range(len(arr)): #This is going to be our outside loop\n",
    "        count = 0\n",
    "        \n",
    "        for i in range(len(arr)-1): #We are going to the last index so we dont go out of bounds \n",
    "            if arr[i] > arr[i+1]:\n",
    "            #We are comparing each item and the one in front, if it is greater, we swap\n",
    "                swap(arr, i, i+1) \n",
    "            count += 1\n",
    "            \n",
    "nums5 = [5,3,84,65,10,91,2]\n",
    "# print(nums5)\n",
    "# bubbleSort(nums5)\n",
    "# print(nums5)\n",
    "\n",
    "def bubbleSortOp(arr):\n",
    "    isSorted = False \n",
    "    while not isSorted: #We are using this loop to say \"if its already sorted, break\"\n",
    "        isSorted = True\n",
    "        for i in range(len(arr)-1):#looping/checking- ALWAYS PUT -1 so it stops\n",
    "            if arr[i] > arr[i+1]: \n",
    "                swap(arr, i, i+1)  #Is one greater than the other\n",
    "                isSorted = False #isSorted will be false until it is sorted\n",
    "            \n",
    "\n",
    "print(nums5)\n",
    "bubbleSortOp(nums5)\n",
    "print(nums5)\n",
    "        \n",
    "        "
   ]
  },
  {
   "cell_type": "markdown",
   "metadata": {},
   "source": [
    "##### Insertion Sort\n",
    "\n",
    "Worst Case: O(n^2) time - O(1)space"
   ]
  },
  {
   "cell_type": "code",
   "execution_count": 25,
   "metadata": {},
   "outputs": [
    {
     "name": "stdout",
     "output_type": "stream",
     "text": [
      "[55, 1, 99, 65, 41, 3, 8, 74]\n",
      "[1, 3, 8, 41, 55, 65, 74, 99]\n"
     ]
    }
   ],
   "source": [
    "def swap(alist,x,y): #Defining our function \n",
    "    alist[x],alist[y] = alist[y],alist[x] # swapping \n",
    "    \n",
    "def insSort(arr):\n",
    "    for i in range(len(arr)):\n",
    "        j = i\n",
    "        while j > 0 and arr[j] < arr[j-1]:\n",
    "            swap(arr,j,j-1)\n",
    "            j -=1\n",
    "\n",
    "nums6 = [55,1,99,65,41,3,8,74]\n",
    "print(nums6)\n",
    "insSort(nums6)\n",
    "print(nums6)\n",
    "        "
   ]
  },
  {
   "cell_type": "markdown",
   "metadata": {},
   "source": [
    "## Merge Sort"
   ]
  },
  {
   "cell_type": "markdown",
   "metadata": {},
   "source": [
    "#### How it Works"
   ]
  },
  {
   "cell_type": "code",
   "execution_count": 27,
   "metadata": {},
   "outputs": [
    {
     "name": "stdout",
     "output_type": "stream",
     "text": [
      "[55, 1, 99, 65, 41, 3, 8, 74, 51, 95, 165, 4, 8]\n",
      "Splitting. . .  [55, 1, 99, 65, 41, 3, 8, 74, 51, 95, 165, 4, 8]\n",
      "Splitting. . .  [55, 1, 99, 65, 41, 3]\n",
      "Splitting. . .  [55, 1, 99]\n",
      "Splitting. . .  [55]\n",
      "Splitting. . .  [1, 99]\n",
      "Splitting. . .  [1]\n",
      "Splitting. . .  [99]\n",
      "Merging. . .  [1, 99]\n",
      "Merging. . .  [1, 55, 99]\n",
      "Splitting. . .  [65, 41, 3]\n",
      "Splitting. . .  [65]\n",
      "Splitting. . .  [41, 3]\n",
      "Splitting. . .  [41]\n",
      "Splitting. . .  [3]\n",
      "Merging. . .  [3, 41]\n",
      "Merging. . .  [3, 41, 65]\n",
      "Merging. . .  [1, 3, 41, 55, 65, 99]\n",
      "Splitting. . .  [8, 74, 51, 95, 165, 4, 8]\n",
      "Splitting. . .  [8, 74, 51]\n",
      "Splitting. . .  [8]\n",
      "Splitting. . .  [74, 51]\n",
      "Splitting. . .  [74]\n",
      "Splitting. . .  [51]\n",
      "Merging. . .  [51, 74]\n",
      "Merging. . .  [8, 51, 74]\n",
      "Splitting. . .  [95, 165, 4, 8]\n",
      "Splitting. . .  [95, 165]\n",
      "Splitting. . .  [95]\n",
      "Splitting. . .  [165]\n",
      "Merging. . .  [95, 165]\n",
      "Splitting. . .  [4, 8]\n",
      "Splitting. . .  [4]\n",
      "Splitting. . .  [8]\n",
      "Merging. . .  [4, 8]\n",
      "Merging. . .  [4, 8, 95, 165]\n",
      "Merging. . .  [4, 8, 8, 51, 74, 95, 165]\n",
      "Merging. . .  [1, 3, 4, 8, 8, 41, 51, 55, 65, 74, 95, 99, 165]\n",
      "[1, 3, 4, 8, 8, 41, 51, 55, 65, 74, 95, 99, 165]\n"
     ]
    }
   ],
   "source": [
    "#splits the list until it cant split any furthur, then checks which is larger, sorts, then checks the next one up\n",
    "#Always comparing 3 things- Left, Right, and main \n",
    "\n",
    "# 1. Split everything from the middle and keep going until we cant go any further \n",
    "# 2. from left to right, we are going to merge groups together\n",
    "# 3. While we're merging, place each where it belongs within the merged group\n",
    "# 4. repeat, keep going, all the way up the chain\n",
    "\n",
    "\n",
    "# Step 1------------------------\n",
    "\n",
    "# def mergeSort(alist):\n",
    "# #                         if the length of the list is greater than 1\n",
    "#     if len(alist) > 1:\n",
    "# #                             we're going to set a mid point\n",
    "#         mid = len(alist)//2\n",
    "# #                             need to figure out what our left/right it- will be a copy of our list from beg. to mid\n",
    "#         lefthalf = alist[:mid]\n",
    "# #                             the right half will be a list from mid to the end \n",
    "#         righthalf = alist[mid:]\n",
    "    \n",
    "# #This is our recursive call!\n",
    "    \n",
    "#         mergeSort(lefthalf)\n",
    "#         mergeSort(righthalf)\n",
    "        \n",
    "#Create our pointers\n",
    "#         i = 0\n",
    "#         j = 0\n",
    "#         k = 0\n",
    "#         i,j,k = 0,0,0\n",
    "        \n",
    "# # Step 2------------------------ Our comparison for step 2, left half and right half \n",
    "\n",
    "#         while i < len(lefthalf) and j < len(righthalf):\n",
    "#                                                 #i,j,k are different steps when seperating\n",
    "#             if lefthalf[i] < righthalf[j]:\n",
    "                \n",
    "#                 alist[k] = lefthalf[i]\n",
    "# #                         Need to move our pointers\n",
    "#                 i += 1\n",
    "# #                 k +=1 because you are already doing it down there\n",
    "#             else: #Which means right half\n",
    "#                 alist[k] = righthalf[j]\n",
    "#                 j += 1\n",
    "#             k += 1\n",
    "\n",
    "# # Step 3------------------------  \n",
    "\n",
    "#         while i < len(lefthalf):\n",
    "#             alist[k] = lefthalf[i]\n",
    "#             i +=1\n",
    "#             k +=1\n",
    "#         while j < len(righthalf):\n",
    "#             alist[k] = righthalf[j]\n",
    "#             i +=1\n",
    "#             k +=1\n",
    "            \n",
    "# nums7 = [55,1,99,65,41,3,8,74,51,95,165,4,8]\n",
    "# print(nums7)\n",
    "# mergeSort(nums7)\n",
    "# print(nums7)\n",
    "\n",
    "# 1. Split everything from the middle and keep going until we can't go any further\n",
    "# 2. from left to right merge groups together\n",
    "# 3. while merging, place each where it belongs within the merged group\n",
    "# 4. repeat, keep going, all the way up the chain\n",
    "\n",
    "def mergeSort(alist):\n",
    "    print('Splitting. . . ', alist)\n",
    "    # step 1\n",
    "    if len(alist) > 1:\n",
    "        mid = len(alist)//2\n",
    "        lefthalf = alist[:mid]\n",
    "        righthalf = alist[mid:]\n",
    "        \n",
    "        # this is our recursive call!\n",
    "        mergeSort(lefthalf)\n",
    "        mergeSort(righthalf)\n",
    "        \n",
    "        # create our pointers\n",
    "        i, j, k = 0, 0, 0\n",
    "        \n",
    "        #step 2 let's compare lefthalf and righthalf\n",
    "        while i < len(lefthalf) and j < len(righthalf):\n",
    "            if lefthalf[i] < righthalf[j]:\n",
    "                alist[k] = lefthalf[i]\n",
    "                i += 1\n",
    "            else:\n",
    "                alist[k] = righthalf[j]\n",
    "                j += 1\n",
    "            k += 1\n",
    "        #step 3 - while merging: placement\n",
    "        while i < len(lefthalf):\n",
    "            alist[k] = lefthalf[i]\n",
    "            i += 1\n",
    "            k +=1\n",
    "        while j < len(righthalf):\n",
    "            alist[k] = righthalf[j]\n",
    "            j += 1\n",
    "            k += 1\n",
    "        print('Merging. . . ', alist)\n",
    "nums7 = [55, 1, 99, 65, 41, 3, 8, 74, 51, 95, 165, 4, 8]  \n",
    "print(nums7)\n",
    "mergeSort(nums7)\n",
    "print(nums7)\n",
    "        \n",
    "    "
   ]
  },
  {
   "cell_type": "markdown",
   "metadata": {},
   "source": [
    "# Binary Search\n",
    "\n",
    "The Binary Search algorithm works by finding the number in the middle of a given array and comparing it to the target. Given that the array is sorted\n",
    "\n",
    "* The worst case run time for this algorithm is `O(log(n))`"
   ]
  },
  {
   "cell_type": "code",
   "execution_count": 14,
   "metadata": {},
   "outputs": [
    {
     "name": "stdout",
     "output_type": "stream",
     "text": [
      "[55, 1, 99, 65, 41, 3, 8, 74, 51, 95, 165, 4, 8]\n",
      "I found your target at index: 7\n",
      "I found your target at index: 5\n"
     ]
    }
   ],
   "source": [
    "print(nums7)\n",
    "nums8 = [1, 3, 4, 9, 11, 18, 50, 68, 97] \n",
    "nums9 = list(range(11))\n",
    "def binSearch(nums, target):\n",
    "    left = 0\n",
    "    right = len(nums)-1\n",
    "    while left <= right:\n",
    "        mid = (left + right)//2\n",
    "        potentialMatch = nums[mid]\n",
    "        if target == potentialMatch:\n",
    "            return f\"I found your target at index: {mid}\"\n",
    "        elif target < potentialMatch:\n",
    "            right = mid - 1\n",
    "        elif target > potentialMatch:\n",
    "            left = mid + 1\n",
    "    return f\"Sorry, your target isn't there!!!!\"\n",
    "print(binSearch(nums8, 68))\n",
    "print(binSearch(nums9, 5))"
   ]
  },
  {
   "cell_type": "markdown",
   "metadata": {},
   "source": [
    "# Exercises"
   ]
  },
  {
   "cell_type": "markdown",
   "metadata": {},
   "source": [
    "### Exercise #1 <br>\n",
    "<p>Reverse the list below in-place using an in-place algorithm.<br>For extra credit: Reverse the strings at the same time.</p>"
   ]
  },
  {
   "cell_type": "code",
   "execution_count": 3,
   "metadata": {
    "scrolled": true
   },
   "outputs": [
    {
     "name": "stdout",
     "output_type": "stream",
     "text": [
      "['this', 'is', 'a', 'sentence', '.']\n",
      "['.', 'sentence', 'a', 'is', 'this']\n"
     ]
    }
   ],
   "source": [
    "words = ['this' , 'is', 'a', 'sentence', '.']\n",
    "# l_1 = [10, 4, 3, 8, 4, 2, 6]\n",
    "\n",
    "# This is going to be a helper function for us \n",
    "\n",
    "\n",
    "def twoPointer(numlist):\n",
    "    #create our pointers\n",
    "    left = 0 #Left pointer is going to start at...\n",
    "    right = len(numlist)-1 #-1 is refering to the last number of the list, Right will start at \n",
    "    while left < right:\n",
    "        numlist[left], numlist[right] = numlist[right], numlist[left]\n",
    "        left += 1 #To make left pointer move over\n",
    "        right -= 1 #To make right pointer move over\n",
    "        \n",
    "print(words)\n",
    "twoPointer(words)\n",
    "print(words)"
   ]
  },
  {
   "cell_type": "markdown",
   "metadata": {},
   "source": [
    "### Exercise #2 <br>\n",
    "<p>Create a function that counts how many distinct words are in the string below, then outputs a dictionary with the words as the key and the value as the amount of times that word appears in the string.<br>Should output:<br>{'a': 5,<br>\n",
    " 'abstract': 1,<br>\n",
    " 'an': 3,<br>\n",
    " 'array': 2, ... etc...</p>"
   ]
  },
  {
   "cell_type": "code",
   "execution_count": 3,
   "metadata": {},
   "outputs": [
    {
     "name": "stdout",
     "output_type": "stream",
     "text": [
      "{'In': 1, 'computing,': 1, 'a': 4, 'hash': 4, 'table': 2, 'map': 2, 'is': 1, 'data': 2, 'structure': 2, 'which': 2, 'implements': 1, 'an': 3, 'associative': 1, 'array': 2, 'abstract': 1, 'type,': 1, 'that': 1, 'can': 2, 'keys': 1, 'to': 2, 'values.': 1, 'A': 1, 'uses': 1, 'function': 1, 'compute': 1, 'index': 1, 'into': 1, 'of': 1, 'buckets': 1, 'or': 1, 'slots': 1, 'from': 1, 'the': 1, 'desired': 1, 'value': 1, 'be': 1, 'found': 1}\n"
     ]
    }
   ],
   "source": [
    "a_text = 'In computing, a hash table hash map is a data structure which implements an associative array abstract data type, a structure that can map keys to values. A hash table uses a hash function to compute an index into an array of buckets or slots from which the desired value can be found'\n",
    "# new_dict = {}\n",
    "# def countStrings(string):\n",
    "#     res = len(string.split())\n",
    "#     print(res)\n",
    "#     for i in res:\n",
    "#         new_dict.update({word: \"red\"})\n",
    "#         print(new_dict)\n",
    "# countStrings(a_text)\n",
    "\n",
    "def countStrings(str):\n",
    "    count = dict()\n",
    "    words = str.split()\n",
    "\n",
    "    for word in words:\n",
    "        if word in count:\n",
    "            count[word] += 1\n",
    "        else:\n",
    "            count[word] = 1\n",
    "\n",
    "    return count\n",
    "\n",
    "print( countStrings(a_text))\n",
    "\n",
    "\n"
   ]
  },
  {
   "cell_type": "markdown",
   "metadata": {},
   "source": [
    "## Exercise #3\n",
    "\n",
    "Write a program to implement a Linear Search Algorithm. Also in a comment, write the Time Complexity of the following algorithm.\n",
    "\n",
    "#### Hint: Linear Searching will require searching a list for a given number. "
   ]
  },
  {
   "cell_type": "code",
   "execution_count": 4,
   "metadata": {},
   "outputs": [
    {
     "name": "stdout",
     "output_type": "stream",
     "text": [
      "I found your # at index: 7\n",
      "I found your # at index: 4\n"
     ]
    }
   ],
   "source": [
    "#Dont do time complexity\n",
    "\n",
    "#Binary search, look through the list and find a given number\n",
    "\n",
    "# l_2 = [10, 4, 3, 8, 4, 2, 6]\n",
    "\n",
    "# def search(arr, x):\n",
    "#     for i in range(len(arr)):\n",
    " \n",
    "#         if arr[i] == x:\n",
    "#             return f\"{x} is index {i} of this list\"\n",
    " \n",
    "#     return -1\n",
    "# print(search(l_2, 10))\n",
    "\n",
    "\n",
    "nums10 = [21, 43, 14, 89, 11, 18, 50, 98] \n",
    "nums11 = list(range(15))\n",
    "def binSearch(nums, target):\n",
    "    left = 0\n",
    "    right = len(nums)-1\n",
    "    while left <= right:\n",
    "        mid = (left + right)//2\n",
    "        potentialMatch = nums[mid]\n",
    "        if target == potentialMatch:\n",
    "            return f\"I found your # at index: {mid}\"\n",
    "        elif target < potentialMatch:\n",
    "            right = mid - 1\n",
    "        elif target > potentialMatch:\n",
    "            left = mid + 1\n",
    "    return f\"Sorry, your # isn't here!\"\n",
    "print(binSearch(nums10, 98))\n",
    "print(binSearch(nums11, 4))"
   ]
  },
  {
   "cell_type": "code",
   "execution_count": null,
   "metadata": {},
   "outputs": [],
   "source": []
  },
  {
   "cell_type": "code",
   "execution_count": null,
   "metadata": {},
   "outputs": [],
   "source": []
  }
 ],
 "metadata": {
  "kernelspec": {
   "display_name": "Python 3 (ipykernel)",
   "language": "python",
   "name": "python3"
  },
  "language_info": {
   "codemirror_mode": {
    "name": "ipython",
    "version": 3
   },
   "file_extension": ".py",
   "mimetype": "text/x-python",
   "name": "python",
   "nbconvert_exporter": "python",
   "pygments_lexer": "ipython3",
   "version": "3.9.13"
  }
 },
 "nbformat": 4,
 "nbformat_minor": 2
}
